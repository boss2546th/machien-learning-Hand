{
 "cells": [
  {
   "cell_type": "code",
   "execution_count": 27,
   "id": "b4ac83fd-1123-487e-8103-11b373b443fa",
   "metadata": {},
   "outputs": [],
   "source": [
    "relate_xy = [[38, 38, 39, 39, 40, 40, 40, 40, 39, 40, 40, 40, 39, 40, 39, 38, 38, 38, 38, 37, 37, 36, 36, 36, 37, 37, 37, 49, 37, 37, 38, 47, 34, 37, 38, 38, 37, 35, 36, 34, 36, 36, 34, 35, 33, 35, 35, 35, 34, 37, 36, 36, 35, 35, 37, 36, 34, 37, 37, 36, 36, 36, 36, 35, 35, 37, 37, 37, 38, 36, 36, 48, 34, 34, 35, 34, 35, 35, 34, 34, 34, 35, 36, 37, 36, 38, 35, 36, 39, 38, 39, 38, 39, 39, 40, 40, 39, 38, 41, 41, 40, 40, 41, 40, 41, 41, 40, 40, 41, 39, 39, 39, 39, 40, 37, 37, 37, 38, 36, 36, 35, 35, 35, 37, 35, 37, 35, 36, 38, 37, 37, 37, 37, 38, 39, 39, 38, 38, 39, 39, 41, 41, 40, 40, 40, 40, 42, 42, 42, 42, 42, 43, 43, 43, 43, 42, 42, 43, 43, 43, 43, 44, 44, 44, 45, 44, 45, 47, 48, 48, 48, 52, 51, 51, 52, 52, 52, 52, 54, 54, 56, 57, 57, 55, 56, 57, 59, 60, 60, 59, 61, 61, 62, 62, 62, 63, 64, 63, 64, 64, 64, 64, 64, 64, 67, 67, 66, 67, 68, 68, 68, 69, 71, 71, 72, 72, 73, 72, 73, 73, 74, 74, 74, 74, 74, 76, 75, 75, 76, 76, 76, 78, 77, 77, 76, 77, 78, 79, 79, 81, 81, 81, 81, 83, 83, 84, 85, 86, 85, 86, 87, 88, 88, 91, 91, 92, 92, 95, 95, 97, 97, 98, 97, 99, 98, 98, 98, 100, 100, 100, 101, 101, 103, 102, 104, 106, 107, 108, 109, 109, 113, 114, 115, 115, 116, 117, 119, 119, 120, 122, 122, 123, 123, 123, 124, 126, 124, 123, 129, 127, 128, 129, 129, 130, 130, 132, 133, 135, 134, 137, 138, 138, 136, 139, 141, 143, 142, 145, 145, 149, 151, 150, 154, 158, 156, 159, 158, 159, 161, 158, 162, 167, 166, 167, 170, 169, 175, 178, 178, 179, 184, 182, 187, 190, 189, 192, 193, 198, 198, 201, 209, 207, 207, 212, 215, 220, 225, 224, 225, 226, 226, 230, 244, 243, 242, 245, 243, 253, 258, 257, 263, 269, 267, 269, 283, 286, 285, 287, 281, 286, 287, 291, 286, 286, 301, 297, 302, 302, 312, 313, 316, 311, 317, 312, 316, 312, 319, 318, 320, 324, 319, 320, 317, 316, 321, 313, 303, 318, 324, 323, 340, 350, 350, 353, 355, 350, 303, 361, 303, 360, 308, 364, 287, 367, 296, 362, 307, 358, 354, 346, 341, 324, 311, 296, 291, 278, 251, 250, 250, 242, 238, 231, 217, 211, 203, 200, 190, 188, 178, 171, 170, 170, 159, 158, 147, 141, 139, 137, 136, 132, 128, 124, 121, 121, 117, 115, 112, 108, 103, 101, 97, 96, 96, 93, 90, 89, 86, 85, 84, 83, 79, 79, 79, 77, 78, 76, 75, 75, 73, 73, 71, 72, 71, 71, 72, 72, 70, 72, 72, 72, 73, 71, 72, 72, 72, 74],\n",
    "             [50, 51, 50, 50, 50, 50, 51, 50, 51, 50, 50, 50, 51, 51, 53, 51, 51, 50, 50, 49, 50, 50, 50, 50, 50, 50, 50, 50, 50, 51, 51, 52, 49, 51, 51, 52, 52, 48, 48, 44, 45, 44, 49, 51, 49, 49, 50, 50, 49, 49, 50, 52, 51, 51, 51, 51, 51, 51, 51, 51, 52, 50, 50, 51, 50, 50, 51, 51, 52, 52, 52, 50, 50, 51, 50, 49, 49, 50, 49, 50, 49, 48, 51, 51, 44, 52, 51, 52, 51, 51, 53, 57, 57, 57, 56, 56, 56, 58, 59, 59, 59, 59, 59, 60, 61, 61, 59, 59, 59, 58, 58, 57, 55, 55, 57, 53, 53, 53, 51, 51, 51, 51, 51, 51, 52, 50, 50, 51, 52, 52, 54, 51, 52, 53, 54, 54, 54, 55, 55, 56, 57, 57, 58, 58, 59, 58, 59, 60, 60, 60, 59, 60, 61, 60, 61, 61, 63, 62, 62, 63, 63, 64, 65, 65, 66, 65, 66, 66, 69, 69, 69, 68, 70, 71, 71, 71, 71, 71, 73, 74, 74, 74, 74, 74, 75, 75, 76, 76, 76, 77, 77, 78, 78, 78, 80, 79, 81, 81, 81, 81, 81, 81, 82, 84, 84, 85, 85, 87, 89, 89, 91, 91, 93, 93, 93, 95, 95, 96, 97, 96, 97, 98, 98, 99, 100, 101, 101, 101, 101, 103, 103, 104, 105, 104, 106, 106, 105, 107, 107, 109, 110, 111, 110, 111, 112, 115, 116, 116, 116, 119, 119, 120, 119, 121, 122, 124, 123, 128, 127, 130, 131, 131, 130, 130, 129, 129, 128, 130, 130, 132, 132, 135, 134, 132, 138, 136, 138, 141, 142, 142, 149, 152, 153, 156, 154, 157, 159, 158, 157, 162, 160, 161, 161, 162, 163, 166, 166, 166, 169, 171, 174, 174, 174, 176, 178, 181, 181, 183, 184, 189, 189, 191, 192, 195, 196, 203, 202, 211, 208, 212, 211, 210, 213, 214, 216, 213, 215, 214, 213, 214, 217, 223, 223, 224, 229, 227, 238, 253, 249, 251, 263, 260, 276, 303, 287, 291, 293, 294, 298, 303, 325, 320, 319, 322, 321, 332, 339, 341, 348, 347, 350, 346, 359, 365, 363, 367, 367, 371, 374, 360, 383, 387, 387, 385, 410, 398, 398, 401, 415, 420, 405, 417, 411, 409, 421, 410, 431, 438, 453, 451, 462, 459, 452, 440, 452, 445, 449, 431, 443, 453, 463, 448, 439, 452, 448, 438, 449, 459, 466, 458, 485, 506, 503, 522, 522, 520, 466, 552, 466, 563, 449, 573, 375, 594, 259, 570, 468, 539, 549, 529, 516, 464, 449, 445, 429, 408, 381, 369, 374, 365, 363, 344, 326, 319, 317, 322, 288, 286, 269, 256, 248, 250, 219, 222, 213, 199, 197, 198, 188, 184, 177, 168, 169, 169, 158, 159, 152, 142, 136, 135, 129, 130, 128, 124, 120, 120, 116, 114, 115, 112, 106, 107, 106, 104, 105, 102, 100, 101, 100, 99, 97, 97, 96, 97, 97, 97, 97, 97, 98, 98, 98, 98, 99, 99, 100, 100]]"
   ]
  },
  {
   "cell_type": "code",
   "execution_count": 28,
   "id": "e8f18f43-b205-4040-bd73-0f94b9cbb72e",
   "metadata": {},
   "outputs": [
    {
     "name": "stdout",
     "output_type": "stream",
     "text": [
      "(506 , 506)\n"
     ]
    }
   ],
   "source": [
    "print(\"({} , {})\".format(len(relate_xy[0]),len(relate_xy[1])))"
   ]
  },
  {
   "cell_type": "code",
   "execution_count": 13,
   "id": "d451219e-73eb-404a-b1f2-9ba36643234a",
   "metadata": {},
   "outputs": [],
   "source": [
    "d = {\"zoom\":  relate_xy[0] , \"distant\": relate_xy[1]}"
   ]
  },
  {
   "cell_type": "code",
   "execution_count": 14,
   "id": "c265ca40-b847-4663-93a7-0b9fc98cb0e8",
   "metadata": {},
   "outputs": [],
   "source": [
    "import pandas as pd"
   ]
  },
  {
   "cell_type": "code",
   "execution_count": 15,
   "id": "624bcdba-24b2-4367-9f40-e291ddf65e74",
   "metadata": {},
   "outputs": [],
   "source": [
    "df = pd.DataFrame(data=d)"
   ]
  },
  {
   "cell_type": "code",
   "execution_count": 16,
   "id": "31c84b33-e04e-4620-8240-49c20d725ae8",
   "metadata": {},
   "outputs": [
    {
     "data": {
      "text/html": [
       "<div>\n",
       "<style scoped>\n",
       "    .dataframe tbody tr th:only-of-type {\n",
       "        vertical-align: middle;\n",
       "    }\n",
       "\n",
       "    .dataframe tbody tr th {\n",
       "        vertical-align: top;\n",
       "    }\n",
       "\n",
       "    .dataframe thead th {\n",
       "        text-align: right;\n",
       "    }\n",
       "</style>\n",
       "<table border=\"1\" class=\"dataframe\">\n",
       "  <thead>\n",
       "    <tr style=\"text-align: right;\">\n",
       "      <th></th>\n",
       "      <th>zoom</th>\n",
       "      <th>distant</th>\n",
       "    </tr>\n",
       "  </thead>\n",
       "  <tbody>\n",
       "    <tr>\n",
       "      <th>0</th>\n",
       "      <td>38</td>\n",
       "      <td>50</td>\n",
       "    </tr>\n",
       "    <tr>\n",
       "      <th>1</th>\n",
       "      <td>38</td>\n",
       "      <td>51</td>\n",
       "    </tr>\n",
       "    <tr>\n",
       "      <th>2</th>\n",
       "      <td>39</td>\n",
       "      <td>50</td>\n",
       "    </tr>\n",
       "    <tr>\n",
       "      <th>3</th>\n",
       "      <td>39</td>\n",
       "      <td>50</td>\n",
       "    </tr>\n",
       "    <tr>\n",
       "      <th>4</th>\n",
       "      <td>40</td>\n",
       "      <td>50</td>\n",
       "    </tr>\n",
       "    <tr>\n",
       "      <th>...</th>\n",
       "      <td>...</td>\n",
       "      <td>...</td>\n",
       "    </tr>\n",
       "    <tr>\n",
       "      <th>501</th>\n",
       "      <td>71</td>\n",
       "      <td>98</td>\n",
       "    </tr>\n",
       "    <tr>\n",
       "      <th>502</th>\n",
       "      <td>72</td>\n",
       "      <td>99</td>\n",
       "    </tr>\n",
       "    <tr>\n",
       "      <th>503</th>\n",
       "      <td>72</td>\n",
       "      <td>99</td>\n",
       "    </tr>\n",
       "    <tr>\n",
       "      <th>504</th>\n",
       "      <td>72</td>\n",
       "      <td>100</td>\n",
       "    </tr>\n",
       "    <tr>\n",
       "      <th>505</th>\n",
       "      <td>74</td>\n",
       "      <td>100</td>\n",
       "    </tr>\n",
       "  </tbody>\n",
       "</table>\n",
       "<p>506 rows × 2 columns</p>\n",
       "</div>"
      ],
      "text/plain": [
       "     zoom  distant\n",
       "0      38       50\n",
       "1      38       51\n",
       "2      39       50\n",
       "3      39       50\n",
       "4      40       50\n",
       "..    ...      ...\n",
       "501    71       98\n",
       "502    72       99\n",
       "503    72       99\n",
       "504    72      100\n",
       "505    74      100\n",
       "\n",
       "[506 rows x 2 columns]"
      ]
     },
     "execution_count": 16,
     "metadata": {},
     "output_type": "execute_result"
    }
   ],
   "source": [
    "df"
   ]
  },
  {
   "cell_type": "code",
   "execution_count": 17,
   "id": "f7b27e3e-df4c-4ed0-b6a5-217b8bbeb4ab",
   "metadata": {},
   "outputs": [],
   "source": [
    "from sklearn.model_selection import train_test_split"
   ]
  },
  {
   "cell_type": "code",
   "execution_count": 18,
   "id": "2a73e824-7bc2-4e7c-aa5e-8ad027bbe895",
   "metadata": {},
   "outputs": [],
   "source": [
    "data_train,data_test = train_test_split(df, train_size=0.8,random_state=7)"
   ]
  },
  {
   "cell_type": "code",
   "execution_count": 19,
   "id": "513885be-1720-4874-9ac0-3f0c16f9549b",
   "metadata": {},
   "outputs": [
    {
     "name": "stdout",
     "output_type": "stream",
     "text": [
      "See the data sample:\n",
      "\n",
      "     zoom  distant\n",
      "355   220      332\n",
      "460   128      177\n",
      "120    35       51\n",
      "346   193      293\n",
      "457   137      198\n",
      "See the summary of features:\n",
      "\n",
      "<class 'pandas.core.frame.DataFrame'>\n",
      "Int64Index: 404 entries, 355 to 175\n",
      "Data columns (total 2 columns):\n",
      " #   Column   Non-Null Count  Dtype\n",
      "---  ------   --------------  -----\n",
      " 0   zoom     404 non-null    int64\n",
      " 1   distant  404 non-null    int64\n",
      "dtypes: int64(2)\n",
      "memory usage: 9.5 KB\n",
      "None\n",
      "Calculate basic stat of each feature:\n",
      "\n",
      "             zoom     distant\n",
      "count  404.000000  404.000000\n",
      "mean   113.584158  160.247525\n",
      "std     93.993719  138.878825\n",
      "min     33.000000   44.000000\n",
      "25%     40.000000   57.000000\n",
      "50%     74.000000   99.000000\n",
      "75%    150.250000  211.500000\n",
      "max    367.000000  594.000000\n"
     ]
    }
   ],
   "source": [
    "print(\"See the data sample:\\n\")\n",
    "print(data_train.head())\n",
    "print(\"See the summary of features:\\n\")\n",
    "print(data_train.info())\n",
    "print(\"Calculate basic stat of each feature:\\n\")\n",
    "print(data_train.describe())"
   ]
  },
  {
   "cell_type": "code",
   "execution_count": 20,
   "id": "62480b49-1b77-4392-9e0b-6a798dd35c5e",
   "metadata": {},
   "outputs": [],
   "source": [
    "import matplotlib.pyplot as plt\n",
    "import numpy as np"
   ]
  },
  {
   "cell_type": "code",
   "execution_count": 21,
   "id": "50685e97-afee-4439-8c2f-786d63895983",
   "metadata": {},
   "outputs": [
    {
     "data": {
      "text/plain": [
       "Text(0, 0.5, 'y')"
      ]
     },
     "execution_count": 21,
     "metadata": {},
     "output_type": "execute_result"
    },
    {
     "data": {
      "image/png": "[encoded data removed]",
      "text/plain": [
       "<Figure size 864x648 with 1 Axes>"
      ]
     },
     "metadata": {
      "needs_background": "light"
     },
     "output_type": "display_data"
    }
   ],
   "source": [
    "plt.figure(figsize=(12,9))\n",
    "plt.scatter(data_train[\"zoom\"], data_train[\"distant\"])\n",
    "plt.xlabel(\"x\")\n",
    "plt.ylabel(\"y\")"
   ]
  },
  {
   "cell_type": "code",
   "execution_count": 22,
   "id": "cdcb222e-c3d2-444f-ad99-c81fea708d57",
   "metadata": {},
   "outputs": [],
   "source": [
    "X_train = np.array(data_train[\"zoom\"]).reshape(-1,1)\n",
    "y_train = np.array(data_train[\"distant\"]).reshape(-1,1)\n",
    "X_test = np.array(data_test[\"zoom\"]).reshape(-1,1)\n",
    "y_test = np.array(data_test[\"distant\"]).reshape(-1,1)"
   ]
  },
  {
   "cell_type": "code",
   "execution_count": 23,
   "id": "9441d2cf-834a-449f-8b1c-211f0d4e3dfb",
   "metadata": {},
   "outputs": [
    {
     "name": "stdout",
     "output_type": "stream",
     "text": [
      "X_train shape = (404, 1)\n",
      "y_train shape = (404, 1)\n",
      "X_test shape = (102, 1)\n",
      "y_test shape = (102, 1)\n"
     ]
    }
   ],
   "source": [
    "print(\"X_train shape = \" + str(X_train.shape))\n",
    "print(\"y_train shape = \" + str(y_train.shape))\n",
    "print(\"X_test shape = \" + str(X_test.shape))\n",
    "print(\"y_test shape = \" + str(y_test.shape))"
   ]
  },
  {
   "cell_type": "code",
   "execution_count": 24,
   "id": "f769e930-c9ea-4906-900c-63cba8fbb4ae",
   "metadata": {},
   "outputs": [],
   "source": [
    "from sklearn.linear_model import LinearRegression"
   ]
  },
  {
   "cell_type": "code",
   "execution_count": 25,
   "id": "ecb7bc16-b0e1-4885-b192-af8cd2030cd2",
   "metadata": {},
   "outputs": [
    {
     "name": "stdout",
     "output_type": "stream",
     "text": [
      "LR coefficient is [[1.47092751]]\n",
      "LR intercept is [-6.82653869]\n"
     ]
    }
   ],
   "source": [
    "lr = LinearRegression().fit(X_train, y_train)\n",
    "print(\"LR coefficient is\", lr.coef_)\n",
    "print(\"LR intercept is\", lr.intercept_)"
   ]
  },
  {
   "cell_type": "code",
   "execution_count": 26,
   "id": "a677edaa-b9ed-464e-948e-ff1d882f00a0",
   "metadata": {},
   "outputs": [
    {
     "name": "stdout",
     "output_type": "stream",
     "text": [
      "Train set accuracy = 0.9910786903415513\n",
      "Test set accuracy = 0.9954861881780908\n"
     ]
    }
   ],
   "source": [
    "print(\"Train set accuracy = \" + str(lr.score(X_train, y_train)))\n",
    "print(\"Test set accuracy = \" + str(lr.score(X_test, y_test)))"
   ]
  },
  {
   "cell_type": "code",
   "execution_count": 27,
   "id": "71da397b-7b79-4bd2-921c-e1dd78eff9e8",
   "metadata": {},
   "outputs": [
    {
     "data": {
      "text/plain": [
       "Text(0, 0.5, 'y')"
      ]
     },
     "execution_count": 27,
     "metadata": {},
     "output_type": "execute_result"
    },
    {
     "data": {
      "image/png": "[encoded data removed]",
      "text/plain": [
       "<Figure size 864x648 with 1 Axes>"
      ]
     },
     "metadata": {
      "needs_background": "light"
     },
     "output_type": "display_data"
    }
   ],
   "source": [
    "# Make a prediction\n",
    "y_pred = lr.predict(X_test)\n",
    "\n",
    "# Visualise the model VS actual data\n",
    "plt.figure(figsize=(12,9))\n",
    "plt.scatter(X_test, y_test)\n",
    "plt.plot(X_test, y_pred, color=\"red\", linewidth=3)\n",
    "plt.xlabel(\"x\")\n",
    "plt.ylabel(\"y\")"
   ]
  },
  {
   "cell_type": "code",
   "execution_count": 28,
   "id": "86db8b97-098f-4bdf-ba23-c99831ac28a6",
   "metadata": {},
   "outputs": [],
   "source": [
    "model = \"max_distant = 1.47092751*zoom - 6.82653869\""
   ]
  }
 ],
 "metadata": {
  "kernelspec": {
   "display_name": "Python 3",
   "language": "python",
   "name": "python3"
  },
  "language_info": {
   "codemirror_mode": {
    "name": "ipython",
    "version": 3
   },
   "file_extension": ".py",
   "mimetype": "text/x-python",
   "name": "python",
   "nbconvert_exporter": "python",
   "pygments_lexer": "ipython3",
   "version": "3.8.8"
  }
 },
 "nbformat": 4,
 "nbformat_minor": 5
}
